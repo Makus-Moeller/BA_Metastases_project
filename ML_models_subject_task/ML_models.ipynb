{
 "cells": [
  {
   "cell_type": "code",
   "execution_count": 206,
   "metadata": {},
   "outputs": [],
   "source": [
    "import pandas as pd\n",
    "from sklearn.linear_model import LogisticRegression\n",
    "import numpy as np\n",
    "from sklearn.ensemble import RandomForestClassifier\n",
    "from sklearn.neighbors import KNeighborsClassifier\n",
    "from sklearn.metrics import roc_curve, roc_auc_score, precision_score, recall_score, f1_score\n",
    "from sklearn.metrics import classification_report\n",
    "from sklearn.model_selection import cross_val_score\n",
    "from pathlib import Path\n",
    "import matplotlib.pyplot as plt\n",
    "import seaborn as sns\n",
    "from xgboost import XGBClassifier"
   ]
  },
  {
   "cell_type": "code",
   "execution_count": 207,
   "metadata": {},
   "outputs": [],
   "source": [
    "import warnings\n",
    "warnings.filterwarnings('ignore')\n",
    "\n",
    "np.set_printoptions(formatter={'float_kind':\"{:.2f}\".format})\n",
    "data_path = Path('../data/') "
   ]
  },
  {
   "cell_type": "code",
   "execution_count": 208,
   "metadata": {},
   "outputs": [
    {
     "data": {
      "text/html": [
       "<div>\n",
       "<style scoped>\n",
       "    .dataframe tbody tr th:only-of-type {\n",
       "        vertical-align: middle;\n",
       "    }\n",
       "\n",
       "    .dataframe tbody tr th {\n",
       "        vertical-align: top;\n",
       "    }\n",
       "\n",
       "    .dataframe thead th {\n",
       "        text-align: right;\n",
       "    }\n",
       "</style>\n",
       "<table border=\"1\" class=\"dataframe\">\n",
       "  <thead>\n",
       "    <tr style=\"text-align: right;\">\n",
       "      <th></th>\n",
       "      <th>pt</th>\n",
       "      <th>axi_avg_prob</th>\n",
       "      <th>axi_amount_sick</th>\n",
       "      <th>axi_max_prob</th>\n",
       "      <th>axi_top10_prob</th>\n",
       "      <th>coro_avg_prob</th>\n",
       "      <th>coro_amount_sick</th>\n",
       "      <th>coro_max_prob</th>\n",
       "      <th>coro_top10_prob</th>\n",
       "      <th>sagi_avg_prob</th>\n",
       "      <th>sagi_amount_sick</th>\n",
       "      <th>sagi_max_prob</th>\n",
       "      <th>sagi_top10_prob</th>\n",
       "      <th>target</th>\n",
       "    </tr>\n",
       "  </thead>\n",
       "  <tbody>\n",
       "    <tr>\n",
       "      <th>0</th>\n",
       "      <td>../../data/nii/anonymized/train/Cmet0387</td>\n",
       "      <td>0.325702</td>\n",
       "      <td>41.0</td>\n",
       "      <td>1.000000</td>\n",
       "      <td>0.999998</td>\n",
       "      <td>0.340606</td>\n",
       "      <td>44.0</td>\n",
       "      <td>1.000000</td>\n",
       "      <td>0.999999</td>\n",
       "      <td>0.312082</td>\n",
       "      <td>38.0</td>\n",
       "      <td>1.000000</td>\n",
       "      <td>0.999998</td>\n",
       "      <td>1.0</td>\n",
       "    </tr>\n",
       "    <tr>\n",
       "      <th>1</th>\n",
       "      <td>../../data/nii/anonymized/train/Cmet0091</td>\n",
       "      <td>0.149193</td>\n",
       "      <td>16.0</td>\n",
       "      <td>1.000000</td>\n",
       "      <td>0.972873</td>\n",
       "      <td>0.240060</td>\n",
       "      <td>27.0</td>\n",
       "      <td>1.000000</td>\n",
       "      <td>0.980599</td>\n",
       "      <td>0.181529</td>\n",
       "      <td>15.0</td>\n",
       "      <td>1.000000</td>\n",
       "      <td>0.984075</td>\n",
       "      <td>1.0</td>\n",
       "    </tr>\n",
       "    <tr>\n",
       "      <th>2</th>\n",
       "      <td>../../data/nii/anonymized/train/Cmet0445</td>\n",
       "      <td>0.078220</td>\n",
       "      <td>5.0</td>\n",
       "      <td>0.999999</td>\n",
       "      <td>0.559113</td>\n",
       "      <td>0.103455</td>\n",
       "      <td>7.0</td>\n",
       "      <td>0.999994</td>\n",
       "      <td>0.533103</td>\n",
       "      <td>0.067490</td>\n",
       "      <td>4.0</td>\n",
       "      <td>0.999995</td>\n",
       "      <td>0.492262</td>\n",
       "      <td>1.0</td>\n",
       "    </tr>\n",
       "    <tr>\n",
       "      <th>3</th>\n",
       "      <td>../../data/nii/anonymized/train/Cmet0943</td>\n",
       "      <td>0.357013</td>\n",
       "      <td>55.0</td>\n",
       "      <td>0.999494</td>\n",
       "      <td>0.940916</td>\n",
       "      <td>0.315725</td>\n",
       "      <td>43.0</td>\n",
       "      <td>0.999973</td>\n",
       "      <td>0.987175</td>\n",
       "      <td>0.402764</td>\n",
       "      <td>63.0</td>\n",
       "      <td>0.999904</td>\n",
       "      <td>0.995224</td>\n",
       "      <td>1.0</td>\n",
       "    </tr>\n",
       "    <tr>\n",
       "      <th>4</th>\n",
       "      <td>../../data/nii/anonymized/train/Cmet0503</td>\n",
       "      <td>0.240813</td>\n",
       "      <td>28.0</td>\n",
       "      <td>0.999999</td>\n",
       "      <td>0.968172</td>\n",
       "      <td>0.360418</td>\n",
       "      <td>51.0</td>\n",
       "      <td>0.999995</td>\n",
       "      <td>0.999438</td>\n",
       "      <td>0.359580</td>\n",
       "      <td>46.0</td>\n",
       "      <td>0.999965</td>\n",
       "      <td>0.999020</td>\n",
       "      <td>1.0</td>\n",
       "    </tr>\n",
       "    <tr>\n",
       "      <th>...</th>\n",
       "      <td>...</td>\n",
       "      <td>...</td>\n",
       "      <td>...</td>\n",
       "      <td>...</td>\n",
       "      <td>...</td>\n",
       "      <td>...</td>\n",
       "      <td>...</td>\n",
       "      <td>...</td>\n",
       "      <td>...</td>\n",
       "      <td>...</td>\n",
       "      <td>...</td>\n",
       "      <td>...</td>\n",
       "      <td>...</td>\n",
       "      <td>...</td>\n",
       "    </tr>\n",
       "    <tr>\n",
       "      <th>1640</th>\n",
       "      <td>../../data/nii/controls/test/Cmet1331</td>\n",
       "      <td>0.038457</td>\n",
       "      <td>0.0</td>\n",
       "      <td>0.402807</td>\n",
       "      <td>0.249345</td>\n",
       "      <td>0.093851</td>\n",
       "      <td>2.0</td>\n",
       "      <td>0.752204</td>\n",
       "      <td>0.375721</td>\n",
       "      <td>0.026227</td>\n",
       "      <td>0.0</td>\n",
       "      <td>0.297582</td>\n",
       "      <td>0.183674</td>\n",
       "      <td>0.0</td>\n",
       "    </tr>\n",
       "    <tr>\n",
       "      <th>1641</th>\n",
       "      <td>../../data/nii/controls/test/Cmet0723</td>\n",
       "      <td>0.062884</td>\n",
       "      <td>5.0</td>\n",
       "      <td>0.745774</td>\n",
       "      <td>0.423417</td>\n",
       "      <td>0.081257</td>\n",
       "      <td>4.0</td>\n",
       "      <td>0.583483</td>\n",
       "      <td>0.431164</td>\n",
       "      <td>0.120932</td>\n",
       "      <td>5.0</td>\n",
       "      <td>0.907085</td>\n",
       "      <td>0.528695</td>\n",
       "      <td>0.0</td>\n",
       "    </tr>\n",
       "    <tr>\n",
       "      <th>1642</th>\n",
       "      <td>../../data/nii/controls/test/Cmet0580</td>\n",
       "      <td>0.061756</td>\n",
       "      <td>6.0</td>\n",
       "      <td>0.718902</td>\n",
       "      <td>0.445250</td>\n",
       "      <td>0.019950</td>\n",
       "      <td>0.0</td>\n",
       "      <td>0.320607</td>\n",
       "      <td>0.185221</td>\n",
       "      <td>0.039377</td>\n",
       "      <td>1.0</td>\n",
       "      <td>0.650462</td>\n",
       "      <td>0.304461</td>\n",
       "      <td>0.0</td>\n",
       "    </tr>\n",
       "    <tr>\n",
       "      <th>1643</th>\n",
       "      <td>../../data/nii/controls/test/Cmet0412</td>\n",
       "      <td>0.163751</td>\n",
       "      <td>18.0</td>\n",
       "      <td>0.752812</td>\n",
       "      <td>0.696326</td>\n",
       "      <td>0.208948</td>\n",
       "      <td>25.0</td>\n",
       "      <td>0.956795</td>\n",
       "      <td>0.813890</td>\n",
       "      <td>0.138068</td>\n",
       "      <td>11.0</td>\n",
       "      <td>0.829878</td>\n",
       "      <td>0.619289</td>\n",
       "      <td>0.0</td>\n",
       "    </tr>\n",
       "    <tr>\n",
       "      <th>1644</th>\n",
       "      <td>../../data/nii/controls/test/Cmet1375</td>\n",
       "      <td>0.018545</td>\n",
       "      <td>0.0</td>\n",
       "      <td>0.482648</td>\n",
       "      <td>0.162638</td>\n",
       "      <td>0.073021</td>\n",
       "      <td>0.0</td>\n",
       "      <td>0.472857</td>\n",
       "      <td>0.299254</td>\n",
       "      <td>0.033168</td>\n",
       "      <td>0.0</td>\n",
       "      <td>0.332294</td>\n",
       "      <td>0.245663</td>\n",
       "      <td>0.0</td>\n",
       "    </tr>\n",
       "  </tbody>\n",
       "</table>\n",
       "<p>1645 rows × 14 columns</p>\n",
       "</div>"
      ],
      "text/plain": [
       "                                            pt  axi_avg_prob  axi_amount_sick  \\\n",
       "0     ../../data/nii/anonymized/train/Cmet0387      0.325702             41.0   \n",
       "1     ../../data/nii/anonymized/train/Cmet0091      0.149193             16.0   \n",
       "2     ../../data/nii/anonymized/train/Cmet0445      0.078220              5.0   \n",
       "3     ../../data/nii/anonymized/train/Cmet0943      0.357013             55.0   \n",
       "4     ../../data/nii/anonymized/train/Cmet0503      0.240813             28.0   \n",
       "...                                        ...           ...              ...   \n",
       "1640     ../../data/nii/controls/test/Cmet1331      0.038457              0.0   \n",
       "1641     ../../data/nii/controls/test/Cmet0723      0.062884              5.0   \n",
       "1642     ../../data/nii/controls/test/Cmet0580      0.061756              6.0   \n",
       "1643     ../../data/nii/controls/test/Cmet0412      0.163751             18.0   \n",
       "1644     ../../data/nii/controls/test/Cmet1375      0.018545              0.0   \n",
       "\n",
       "      axi_max_prob  axi_top10_prob  coro_avg_prob  coro_amount_sick  \\\n",
       "0         1.000000        0.999998       0.340606              44.0   \n",
       "1         1.000000        0.972873       0.240060              27.0   \n",
       "2         0.999999        0.559113       0.103455               7.0   \n",
       "3         0.999494        0.940916       0.315725              43.0   \n",
       "4         0.999999        0.968172       0.360418              51.0   \n",
       "...            ...             ...            ...               ...   \n",
       "1640      0.402807        0.249345       0.093851               2.0   \n",
       "1641      0.745774        0.423417       0.081257               4.0   \n",
       "1642      0.718902        0.445250       0.019950               0.0   \n",
       "1643      0.752812        0.696326       0.208948              25.0   \n",
       "1644      0.482648        0.162638       0.073021               0.0   \n",
       "\n",
       "      coro_max_prob  coro_top10_prob  sagi_avg_prob  sagi_amount_sick  \\\n",
       "0          1.000000         0.999999       0.312082              38.0   \n",
       "1          1.000000         0.980599       0.181529              15.0   \n",
       "2          0.999994         0.533103       0.067490               4.0   \n",
       "3          0.999973         0.987175       0.402764              63.0   \n",
       "4          0.999995         0.999438       0.359580              46.0   \n",
       "...             ...              ...            ...               ...   \n",
       "1640       0.752204         0.375721       0.026227               0.0   \n",
       "1641       0.583483         0.431164       0.120932               5.0   \n",
       "1642       0.320607         0.185221       0.039377               1.0   \n",
       "1643       0.956795         0.813890       0.138068              11.0   \n",
       "1644       0.472857         0.299254       0.033168               0.0   \n",
       "\n",
       "      sagi_max_prob  sagi_top10_prob  target  \n",
       "0          1.000000         0.999998     1.0  \n",
       "1          1.000000         0.984075     1.0  \n",
       "2          0.999995         0.492262     1.0  \n",
       "3          0.999904         0.995224     1.0  \n",
       "4          0.999965         0.999020     1.0  \n",
       "...             ...              ...     ...  \n",
       "1640       0.297582         0.183674     0.0  \n",
       "1641       0.907085         0.528695     0.0  \n",
       "1642       0.650462         0.304461     0.0  \n",
       "1643       0.829878         0.619289     0.0  \n",
       "1644       0.332294         0.245663     0.0  \n",
       "\n",
       "[1645 rows x 14 columns]"
      ]
     },
     "execution_count": 208,
     "metadata": {},
     "output_type": "execute_result"
    }
   ],
   "source": [
    "df = pd.read_pickle(data_path/'logistic_regression_revised_data.pkl')\n",
    "\n",
    "convert_dict = {'pt': str,\n",
    "                'axi_avg_prob': np.float64,\n",
    "                'axi_amount_sick': np.float64,\n",
    "                'axi_max_prob': np.float64,\n",
    "                'axi_top10_prob': np.float64,\n",
    "                'coro_avg_prob': np.float64,\n",
    "                'coro_amount_sick': np.float64,\n",
    "                'coro_max_prob': np.float64,\n",
    "                'coro_top10_prob': np.float64,\n",
    "                'sagi_avg_prob': np.float64,\n",
    "                'sagi_amount_sick': np.float64,\n",
    "                'sagi_max_prob': np.float64,\n",
    "                'sagi_top10_prob': np.float64,\n",
    "                'target': np.float64\n",
    "                }\n",
    " \n",
    "df = df.astype(convert_dict)\n",
    "\n",
    "\n",
    "train_df = df[df.pt.str.contains('|'.join(['train', 'val']))]\n",
    "#val_df = df[df.pt.str.contains('|'.join(['val']))]\n",
    "test_df = df[df.pt.str.contains('|'.join(['test']))]\n",
    "\n",
    "df\n"
   ]
  },
  {
   "cell_type": "code",
   "execution_count": 209,
   "metadata": {},
   "outputs": [
    {
     "name": "stdout",
     "output_type": "stream",
     "text": [
      "Distribution of train patients: \n",
      "\n",
      " 0.0    1251\n",
      "1.0     147\n",
      "Name: target, dtype: int64\n",
      "Share of sick patients:  0.11750599520383694\n",
      "\n",
      "\n",
      "\n",
      "Distribution of test patients: \n",
      "\n",
      " 0.0    221\n",
      "1.0     26\n",
      "Name: target, dtype: int64\n",
      "Share of sick patients:  0.11764705882352941\n"
     ]
    }
   ],
   "source": [
    "train_count = train_df['target'].value_counts()\n",
    "print('Distribution of train patients: \\n\\n', train_count)\n",
    "print('Share of sick patients: ', train_count[1]/train_count[0])\n",
    "\n",
    "print('\\n\\n')\n",
    "\n",
    "test_count = test_df['target'].value_counts()\n",
    "print('Distribution of test patients: \\n\\n', test_count)\n",
    "print('Share of sick patients: ', test_count[1]/test_count[0])"
   ]
  },
  {
   "cell_type": "code",
   "execution_count": 210,
   "metadata": {},
   "outputs": [],
   "source": [
    "train_data = train_df[['axi_avg_prob',\n",
    "                'axi_amount_sick',\n",
    "                'axi_max_prob',\n",
    "                'axi_top10_prob',\n",
    "                'coro_avg_prob',\n",
    "                'coro_amount_sick',\n",
    "                'coro_max_prob',\n",
    "                'coro_top10_prob',\n",
    "                'sagi_avg_prob',\n",
    "                'sagi_amount_sick',\n",
    "                'sagi_max_prob',\n",
    "                'sagi_top10_prob',\n",
    "                'target']].to_numpy()\n",
    "\n",
    "\n",
    "X_train = train_data[:,0:12]\n",
    "y_train = train_data[:,12]\n",
    "\n",
    "test_data = test_df[['axi_avg_prob',\n",
    "                'axi_amount_sick',\n",
    "                'axi_max_prob',\n",
    "                'axi_top10_prob',\n",
    "                'coro_avg_prob',\n",
    "                'coro_amount_sick',\n",
    "                'coro_max_prob',\n",
    "                'coro_top10_prob',\n",
    "                'sagi_avg_prob',\n",
    "                'sagi_amount_sick',\n",
    "                'sagi_max_prob',\n",
    "                'sagi_top10_prob',\n",
    "                'target']].to_numpy()\n",
    "\n",
    "X_test = test_data[:,0:12]\n",
    "y_test = test_data[:,12]"
   ]
  },
  {
   "cell_type": "code",
   "execution_count": 211,
   "metadata": {},
   "outputs": [
    {
     "name": "stdout",
     "output_type": "stream",
     "text": [
      "(1398, 12)\n"
     ]
    }
   ],
   "source": [
    "print(X_train.shape)"
   ]
  },
  {
   "attachments": {},
   "cell_type": "markdown",
   "metadata": {},
   "source": [
    "Logistic regression"
   ]
  },
  {
   "cell_type": "code",
   "execution_count": 212,
   "metadata": {},
   "outputs": [
    {
     "name": "stdout",
     "output_type": "stream",
     "text": [
      "score log reg:  0.9311740890688259\n"
     ]
    }
   ],
   "source": [
    "log_reg = LogisticRegression(random_state=0, max_iter=1000)\n",
    "log_reg.fit(X_train, y_train)\n",
    "print('score log reg: ', log_reg.score(X_test, y_test))\n",
    "y_pred_log = log_reg.predict(X_test)\n",
    "y_pred_prob_log = log_reg.predict_proba(X_test)[:,1]\n",
    "fpr_log, tpr_log, thresholds = roc_curve(y_test, y_pred_prob_log)\n"
   ]
  },
  {
   "attachments": {},
   "cell_type": "markdown",
   "metadata": {},
   "source": [
    "Random Forest"
   ]
  },
  {
   "cell_type": "code",
   "execution_count": 213,
   "metadata": {},
   "outputs": [
    {
     "name": "stdout",
     "output_type": "stream",
     "text": [
      "best validation score: 0.9649359959037378, params: ['sqrt', 5, 200]\n",
      "score rf:  0.9271255060728745\n"
     ]
    }
   ],
   "source": [
    "\n",
    "best_score = 0.0\n",
    "best_params = [None, None, None]\n",
    "\n",
    "for max_feauture in ['sqrt', 'log2', None]:\n",
    "    for max_depth in [2, 5, 10, None]:\n",
    "        for n_estimators in [50, 100, 200]:            \n",
    "            rf = RandomForestClassifier(max_features=max_feauture, max_depth=max_depth, n_estimators=n_estimators)\n",
    "            cv_scores = cross_val_score(rf, X_train, y_train)\n",
    "            \n",
    "            if np.mean(cv_scores) > best_score:\n",
    "                best_score = np.mean(cv_scores)\n",
    "                best_params[0]=max_feauture \n",
    "                best_params[1]=max_depth\n",
    "                best_params[2]=n_estimators\n",
    "            \n",
    "print(f'best validation score: {best_score}, params: {best_params}')            \n",
    "\n",
    "rf_optimal = RandomForestClassifier(max_features=best_params[0], \n",
    "                                    max_depth=best_params[1], \n",
    "                                    n_estimators=best_params[2])\n",
    "rf_optimal.fit(X_train, y_train)\n",
    "y_pred_rf = rf_optimal.predict(X_test)\n",
    "y_pred_prob_rf = rf_optimal.predict_proba(X_test)[:,1]\n",
    "fpr_rf, tpr_rf, thresholds = roc_curve(y_test, y_pred_prob_rf)\n",
    "print('score rf: ', rf_optimal.score(X_test, y_test))"
   ]
  },
  {
   "cell_type": "code",
   "execution_count": 214,
   "metadata": {},
   "outputs": [
    {
     "name": "stdout",
     "output_type": "stream",
     "text": [
      "score rf:  0.9230769230769231\n"
     ]
    }
   ],
   "source": [
    "#deafult parameters\n",
    "rf = RandomForestClassifier()\n",
    "rf.fit(X_train, y_train)\n",
    "print('score rf: ', rf.score(X_test, y_test))"
   ]
  },
  {
   "attachments": {},
   "cell_type": "markdown",
   "metadata": {},
   "source": [
    "KNN"
   ]
  },
  {
   "cell_type": "code",
   "execution_count": 215,
   "metadata": {},
   "outputs": [],
   "source": [
    "#normalize train data\n",
    "norm_X_train = (X_train- X_train.mean(axis=0)) / X_train.std(axis=0)\n",
    "\n",
    "#normalize test data\n",
    "norm_X_test = (X_test - X_test.mean(axis=0)) / X_test.std(axis=0) "
   ]
  },
  {
   "attachments": {},
   "cell_type": "markdown",
   "metadata": {},
   "source": [
    "Parameter tuning"
   ]
  },
  {
   "cell_type": "code",
   "execution_count": 216,
   "metadata": {},
   "outputs": [
    {
     "name": "stdout",
     "output_type": "stream",
     "text": [
      "best validation score: 0.9606502816180236, params: 5\n",
      "score knn:  0.9190283400809717\n"
     ]
    }
   ],
   "source": [
    "best_score = 0.0\n",
    "best_param = -1\n",
    "\n",
    "for neigbors in range(1,15):\n",
    "    knn = KNeighborsClassifier(n_neighbors=neigbors)\n",
    "    cv_scores = cross_val_score(knn, norm_X_train, y_train)\n",
    "    \n",
    "    if np.mean(cv_scores) > best_score:\n",
    "        best_score = np.mean(cv_scores)\n",
    "        best_param = neigbors \n",
    "        \n",
    "print(f'best validation score: {best_score}, params: {best_param}')            \n",
    "\n",
    "knn_optimal = KNeighborsClassifier(n_neighbors=best_param)\n",
    "knn_optimal.fit(norm_X_train, y_train)\n",
    "y_pred_knn = knn_optimal.predict(norm_X_test)\n",
    "y_pred_prob_knn = knn_optimal.predict_proba(norm_X_test)[:,1]\n",
    "fpr_knn, tpr_knn, thresholds = roc_curve(y_test, y_pred_prob_knn)\n",
    "print('score knn: ', knn_optimal.score(norm_X_test, y_test))"
   ]
  },
  {
   "attachments": {},
   "cell_type": "markdown",
   "metadata": {},
   "source": [
    "XG boost"
   ]
  },
  {
   "cell_type": "code",
   "execution_count": 217,
   "metadata": {},
   "outputs": [
    {
     "name": "stdout",
     "output_type": "stream",
     "text": [
      "best validation score: 0.9656554019457244, params: ['logloss', 1.0, 20, 50]\n",
      "[18:06:12] WARNING: ../src/learner.cc:767: \n",
      "Parameters: { \"eval_matric\" } are not used.\n",
      "\n",
      "score xgb:  0.9109311740890689\n"
     ]
    }
   ],
   "source": [
    "best_score = 0.0\n",
    "best_params = [None, None, None, None]\n",
    "\n",
    "\n",
    "for eval_matric in ['logloss']:\n",
    "    for lr in [0.01, 0.1, 1.0]:\n",
    "        for max_depth in [2, 5, 10, 20, 50, None]:\n",
    "            for n_estimators in [2, 5, 10, 50, 100, 200]:            \n",
    "                xgb = XGBClassifier(eval_metric = eval_matric, learning_rate=lr,  max_depth=max_depth, n_estimators=n_estimators, objective='binary:logistic')\n",
    "                cv_scores = cross_val_score(xgb, X_train, y_train)\n",
    "                \n",
    "                if np.mean(cv_scores) > best_score:\n",
    "                    best_score = np.mean(cv_scores)\n",
    "                    best_params[0]=eval_matric\n",
    "                    best_params[1]=lr \n",
    "                    best_params[2]=max_depth\n",
    "                    best_params[3]=n_estimators\n",
    "            \n",
    "print(f'best validation score: {best_score}, params: {best_params}')            \n",
    "\n",
    "xgb_optimal = XGBClassifier(eval_matric=best_params[0], \n",
    "                            learning_rate=best_params[1], \n",
    "                            max_depth=best_params[2], \n",
    "                            n_estimators=best_params[3])\n",
    "\n",
    "xgb_optimal.fit(X_train, y_train)\n",
    "y_pred_xgb = xgb_optimal.predict(X_test)\n",
    "y_pred_prob_xgb = xgb_optimal.predict_proba(X_test)[:,1]\n",
    "fpr_xgb, tpr_xgb, thresholds = roc_curve(y_test, y_pred_prob_xgb)\n",
    "print('score xgb: ', xgb_optimal.score(X_test, y_test))\n"
   ]
  },
  {
   "attachments": {},
   "cell_type": "markdown",
   "metadata": {},
   "source": [
    "Performance and visualization"
   ]
  },
  {
   "cell_type": "code",
   "execution_count": 218,
   "metadata": {},
   "outputs": [
    {
     "name": "stdout",
     "output_type": "stream",
     "text": [
      "\n",
      "\n",
      "\n",
      "AUC log reg 0.7850678733031674\n",
      "AUC rf 0.7760180995475113\n",
      "AUC knn 0.7433867037939437\n",
      "AUC xgb  0.7423424991298294\n"
     ]
    },
    {
     "data": {
      "image/png": "[encoded data removed]",
      "text/plain": [
       "<Figure size 640x480 with 1 Axes>"
      ]
     },
     "metadata": {},
     "output_type": "display_data"
    }
   ],
   "source": [
    "print('\\n\\n')\n",
    "\n",
    "print('AUC log reg', roc_auc_score(y_test, y_pred_prob_log))\n",
    "print('AUC rf', roc_auc_score(y_test, y_pred_prob_rf))\n",
    "print('AUC knn', roc_auc_score(y_test, y_pred_prob_knn))\n",
    "print('AUC xgb ', roc_auc_score(y_test, y_pred_prob_xgb))\n",
    "\n",
    "sns.set_style(\"whitegrid\")\n",
    "\n",
    "plt.plot([0,1],[0,1], 'k--')\n",
    "plt.plot(fpr_log, tpr_log, label=f'Log. Reg., AUC = {roc_auc_score(y_test, y_pred_prob_log):.2f}')\n",
    "plt.plot(fpr_rf, tpr_rf, label=f'RF, AUC = {roc_auc_score(y_test, y_pred_prob_rf):.2f}')\n",
    "plt.plot(fpr_knn, tpr_knn, label=f'KNN, AUC = {roc_auc_score(y_test, y_pred_prob_knn):.2f}')\n",
    "plt.plot(fpr_xgb, tpr_xgb, label=f'XGB, AUC = {roc_auc_score(y_test, y_pred_prob_xgb):.2f}')\n",
    "plt.legend()\n",
    "plt.xlabel('False Positive Rate')\n",
    "plt.ylabel('True Positive Rate')\n",
    "plt.title('Classifiers ROC')\n",
    "plt.show()"
   ]
  },
  {
   "cell_type": "code",
   "execution_count": 219,
   "metadata": {},
   "outputs": [
    {
     "name": "stdout",
     "output_type": "stream",
     "text": [
      "Clasification Report log reg\n",
      "\n",
      "              precision    recall  f1-score   support\n",
      "\n",
      "         0.0       0.94      0.99      0.96       221\n",
      "         1.0       0.85      0.42      0.56        26\n",
      "\n",
      "    accuracy                           0.93       247\n",
      "   macro avg       0.89      0.71      0.76       247\n",
      "weighted avg       0.93      0.93      0.92       247\n",
      "\n",
      "Clasification Report rf\n",
      "\n",
      "              precision    recall  f1-score   support\n",
      "\n",
      "         0.0       0.93      0.99      0.96       221\n",
      "         1.0       0.83      0.38      0.53        26\n",
      "\n",
      "    accuracy                           0.93       247\n",
      "   macro avg       0.88      0.69      0.74       247\n",
      "weighted avg       0.92      0.93      0.91       247\n",
      "\n",
      "Clasification Report knn\n",
      "\n",
      "              precision    recall  f1-score   support\n",
      "\n",
      "         0.0       0.93      0.98      0.96       221\n",
      "         1.0       0.71      0.38      0.50        26\n",
      "\n",
      "    accuracy                           0.92       247\n",
      "   macro avg       0.82      0.68      0.73       247\n",
      "weighted avg       0.91      0.92      0.91       247\n",
      "\n",
      "Clasification Report xgb\n",
      "\n",
      "              precision    recall  f1-score   support\n",
      "\n",
      "         0.0       0.92      0.99      0.95       221\n",
      "         1.0       0.75      0.23      0.35        26\n",
      "\n",
      "    accuracy                           0.91       247\n",
      "   macro avg       0.83      0.61      0.65       247\n",
      "weighted avg       0.90      0.91      0.89       247\n",
      "\n"
     ]
    }
   ],
   "source": [
    "print(f\"Clasification Report log reg\\n\\n{classification_report(y_test, y_pred_log)}\")\n",
    "print(f\"Clasification Report rf\\n\\n{classification_report(y_test, y_pred_rf)}\")\n",
    "print(f\"Clasification Report knn\\n\\n{classification_report(y_test, y_pred_knn)}\")\n",
    "print(f\"Clasification Report xgb\\n\\n{classification_report(y_test, y_pred_xgb)}\")"
   ]
  },
  {
   "cell_type": "code",
   "execution_count": 220,
   "metadata": {},
   "outputs": [
    {
     "name": "stdout",
     "output_type": "stream",
     "text": [
      "p-value of log test 0.026500280602491884    chi-squared value:  4.923076923076923\n",
      "p-value of RF test 0.04330814281079206    chi-squared value:  4.083333333333333\n",
      "p-value of KNN test 0.18144920772141646    chi-squared value:  1.7857142857142858\n",
      "p-value of XGB test 0.2888443663464818    chi-squared value:  1.125\n"
     ]
    }
   ],
   "source": [
    "from mlxtend.evaluate import mcnemar_table\n",
    "from mlxtend.evaluate import mcnemar\n",
    "\n",
    "alpha = 0.05\n",
    "y_baseline_prediction = np.zeros(len(y_pred_log))\n",
    "#Logistic\n",
    "table_log = mcnemar_table(y_target=y_test,\n",
    "                   y_model1=y_baseline_prediction,\n",
    "                   y_model2=y_pred_log)\n",
    "\n",
    "table_rf = mcnemar_table(y_target=y_test,\n",
    "                   y_model1=y_baseline_prediction,\n",
    "                   y_model2=y_pred_rf)\n",
    "\n",
    "table_knn = mcnemar_table(y_target=y_test,\n",
    "                   y_model1=y_baseline_prediction,\n",
    "                   y_model2=y_pred_knn)\n",
    "\n",
    "table_xgb = mcnemar_table(y_target=y_test,\n",
    "                   y_model1=y_baseline_prediction,\n",
    "                   y_model2=y_pred_xgb)\n",
    "\n",
    "\n",
    "chi2_log, p_log = mcnemar(ary=table_log, corrected=True)\n",
    "chi2_rf, p_rf = mcnemar(ary=table_rf, corrected=True)\n",
    "chi2_knn, p_knn = mcnemar(ary=table_knn, corrected=True)\n",
    "chi2_xgb, p_xgb = mcnemar(ary=table_xgb, corrected=True)\n",
    "\n",
    "print(\"p-value of log test\", p_log, \"   chi-squared value: \", chi2_log)\n",
    "print(\"p-value of RF test\", p_rf, \"   chi-squared value: \", chi2_rf)\n",
    "print(\"p-value of KNN test\", p_knn, \"   chi-squared value: \", chi2_knn)\n",
    "print(\"p-value of XGB test\", p_xgb, \"   chi-squared value: \", chi2_xgb)"
   ]
  },
  {
   "cell_type": "code",
   "execution_count": 221,
   "metadata": {},
   "outputs": [
    {
     "name": "stdout",
     "output_type": "stream",
     "text": [
      "positive prediction rate 0.05263157894736842\n",
      "ammount classified as abnormal in dataset 87.20956699999999\n",
      "precision, how many are actuallly abnormal 73.95\n",
      "recall, how many are caught 0.4\n",
      "74.0\n"
     ]
    }
   ],
   "source": [
    "print('positive prediction rate', np.sum(y_pred_log)/len(y_pred_log))\n",
    "print('ammount classified as abnormal in dataset', (1657/100)*5.2631)\n",
    "print('precision, how many are actuallly abnormal', (87/100)*85)\n",
    "print('recall, how many are caught', 74/185)\n",
    "print(185/100*40)"
   ]
  },
  {
   "cell_type": "code",
   "execution_count": 222,
   "metadata": {},
   "outputs": [
    {
     "data": {
      "text/plain": [
       "73.1"
      ]
     },
     "execution_count": 222,
     "metadata": {},
     "output_type": "execute_result"
    }
   ],
   "source": [
    "(86/100)*85"
   ]
  },
  {
   "cell_type": "code",
   "execution_count": 223,
   "metadata": {},
   "outputs": [
    {
     "data": {
      "text/plain": [
       "0.85"
      ]
     },
     "execution_count": 223,
     "metadata": {},
     "output_type": "execute_result"
    }
   ],
   "source": [
    "86/100*85/86"
   ]
  },
  {
   "attachments": {},
   "cell_type": "markdown",
   "metadata": {},
   "source": [
    "Logistic regression plots"
   ]
  },
  {
   "cell_type": "code",
   "execution_count": 224,
   "metadata": {},
   "outputs": [
    {
     "data": {
      "text/plain": [
       "<Axes: xlabel='axi_top10_prob', ylabel='target'>"
      ]
     },
     "execution_count": 224,
     "metadata": {},
     "output_type": "execute_result"
    },
    {
     "data": {
      "image/png": "[encoded data removed]",
      "text/plain": [
       "<Figure size 640x480 with 1 Axes>"
      ]
     },
     "metadata": {},
     "output_type": "display_data"
    }
   ],
   "source": [
    "x = train_df['axi_top10_prob']\n",
    "y = train_df['target']\n",
    "\n",
    "#plot logistic regression curve\n",
    "sns.regplot(x=x, y=y, data=train_df, logistic=True, ci=None)"
   ]
  },
  {
   "cell_type": "code",
   "execution_count": 225,
   "metadata": {},
   "outputs": [
    {
     "data": {
      "text/plain": [
       "<Axes: xlabel='axi_avg_prob', ylabel='target'>"
      ]
     },
     "execution_count": 225,
     "metadata": {},
     "output_type": "execute_result"
    },
    {
     "data": {
      "image/png": "[encoded data removed]",
      "text/plain": [
       "<Figure size 640x480 with 1 Axes>"
      ]
     },
     "metadata": {},
     "output_type": "display_data"
    }
   ],
   "source": [
    "x = train_df['axi_avg_prob']\n",
    "y = train_df['target']\n",
    "\n",
    "#plot logistic regression curve\n",
    "sns.regplot(x=x, y=y, data=train_df, logistic=True, ci=None)"
   ]
  },
  {
   "attachments": {},
   "cell_type": "markdown",
   "metadata": {},
   "source": [
    "Find sick patients with only class 0 and 1 "
   ]
  },
  {
   "cell_type": "code",
   "execution_count": 226,
   "metadata": {},
   "outputs": [
    {
     "data": {
      "text/html": [
       "<div>\n",
       "<style scoped>\n",
       "    .dataframe tbody tr th:only-of-type {\n",
       "        vertical-align: middle;\n",
       "    }\n",
       "\n",
       "    .dataframe tbody tr th {\n",
       "        vertical-align: top;\n",
       "    }\n",
       "\n",
       "    .dataframe thead th {\n",
       "        text-align: right;\n",
       "    }\n",
       "</style>\n",
       "<table border=\"1\" class=\"dataframe\">\n",
       "  <thead>\n",
       "    <tr style=\"text-align: right;\">\n",
       "      <th></th>\n",
       "      <th>ID</th>\n",
       "      <th>world_x</th>\n",
       "      <th>world_y</th>\n",
       "      <th>world_z</th>\n",
       "      <th>voxel_x</th>\n",
       "      <th>voxel_y</th>\n",
       "      <th>voxel_z</th>\n",
       "      <th>classificaton</th>\n",
       "      <th>diameter_in_cm</th>\n",
       "      <th>linked_to</th>\n",
       "    </tr>\n",
       "  </thead>\n",
       "  <tbody>\n",
       "    <tr>\n",
       "      <th>255</th>\n",
       "      <td>Cmet0002</td>\n",
       "      <td>-20.672683</td>\n",
       "      <td>170.393776</td>\n",
       "      <td>1215.500</td>\n",
       "      <td>213.163444</td>\n",
       "      <td>201.240215</td>\n",
       "      <td>25.7500</td>\n",
       "      <td>2</td>\n",
       "      <td>3</td>\n",
       "      <td>PT</td>\n",
       "    </tr>\n",
       "    <tr>\n",
       "      <th>484</th>\n",
       "      <td>Cmet0013</td>\n",
       "      <td>50.819446</td>\n",
       "      <td>163.367490</td>\n",
       "      <td>-158.500</td>\n",
       "      <td>177.374381</td>\n",
       "      <td>199.450349</td>\n",
       "      <td>48.2500</td>\n",
       "      <td>0</td>\n",
       "      <td>2</td>\n",
       "      <td>PT</td>\n",
       "    </tr>\n",
       "    <tr>\n",
       "      <th>265</th>\n",
       "      <td>Cmet0014</td>\n",
       "      <td>9.921610</td>\n",
       "      <td>226.076408</td>\n",
       "      <td>1280.000</td>\n",
       "      <td>197.866297</td>\n",
       "      <td>169.648899</td>\n",
       "      <td>22.7500</td>\n",
       "      <td>2</td>\n",
       "      <td>1</td>\n",
       "      <td>PT</td>\n",
       "    </tr>\n",
       "    <tr>\n",
       "      <th>264</th>\n",
       "      <td>Cmet0014</td>\n",
       "      <td>50.873700</td>\n",
       "      <td>323.807483</td>\n",
       "      <td>1298.000</td>\n",
       "      <td>177.390252</td>\n",
       "      <td>120.783362</td>\n",
       "      <td>31.7500</td>\n",
       "      <td>2</td>\n",
       "      <td>5</td>\n",
       "      <td>PT</td>\n",
       "    </tr>\n",
       "    <tr>\n",
       "      <th>263</th>\n",
       "      <td>Cmet0014</td>\n",
       "      <td>33.859789</td>\n",
       "      <td>271.149592</td>\n",
       "      <td>1322.000</td>\n",
       "      <td>185.897208</td>\n",
       "      <td>147.112307</td>\n",
       "      <td>43.7500</td>\n",
       "      <td>2</td>\n",
       "      <td>1</td>\n",
       "      <td>PT</td>\n",
       "    </tr>\n",
       "    <tr>\n",
       "      <th>262</th>\n",
       "      <td>Cmet0014</td>\n",
       "      <td>67.355638</td>\n",
       "      <td>320.048595</td>\n",
       "      <td>1319.000</td>\n",
       "      <td>169.149284</td>\n",
       "      <td>122.662806</td>\n",
       "      <td>42.2500</td>\n",
       "      <td>2</td>\n",
       "      <td>3</td>\n",
       "      <td>PT</td>\n",
       "    </tr>\n",
       "    <tr>\n",
       "      <th>261</th>\n",
       "      <td>Cmet0014</td>\n",
       "      <td>58.984984</td>\n",
       "      <td>320.048595</td>\n",
       "      <td>1340.000</td>\n",
       "      <td>173.334611</td>\n",
       "      <td>122.662806</td>\n",
       "      <td>52.7500</td>\n",
       "      <td>2</td>\n",
       "      <td>5</td>\n",
       "      <td>PT</td>\n",
       "    </tr>\n",
       "    <tr>\n",
       "      <th>260</th>\n",
       "      <td>Cmet0014</td>\n",
       "      <td>-4.916103</td>\n",
       "      <td>241.111958</td>\n",
       "      <td>1364.000</td>\n",
       "      <td>205.285154</td>\n",
       "      <td>162.131124</td>\n",
       "      <td>64.7500</td>\n",
       "      <td>2</td>\n",
       "      <td>1</td>\n",
       "      <td>PT</td>\n",
       "    </tr>\n",
       "    <tr>\n",
       "      <th>259</th>\n",
       "      <td>Cmet0014</td>\n",
       "      <td>-2.542069</td>\n",
       "      <td>256.938852</td>\n",
       "      <td>1373.000</td>\n",
       "      <td>204.098137</td>\n",
       "      <td>154.217677</td>\n",
       "      <td>69.2500</td>\n",
       "      <td>2</td>\n",
       "      <td>1</td>\n",
       "      <td>PT</td>\n",
       "    </tr>\n",
       "    <tr>\n",
       "      <th>267</th>\n",
       "      <td>Cmet0014</td>\n",
       "      <td>53.445571</td>\n",
       "      <td>260.499904</td>\n",
       "      <td>1295.000</td>\n",
       "      <td>176.104317</td>\n",
       "      <td>152.437151</td>\n",
       "      <td>30.2500</td>\n",
       "      <td>2</td>\n",
       "      <td>1</td>\n",
       "      <td>PT</td>\n",
       "    </tr>\n",
       "    <tr>\n",
       "      <th>266</th>\n",
       "      <td>Cmet0014</td>\n",
       "      <td>-2.739905</td>\n",
       "      <td>322.818302</td>\n",
       "      <td>1307.000</td>\n",
       "      <td>204.197055</td>\n",
       "      <td>121.277952</td>\n",
       "      <td>36.2500</td>\n",
       "      <td>2</td>\n",
       "      <td>2</td>\n",
       "      <td>PT</td>\n",
       "    </tr>\n",
       "    <tr>\n",
       "      <th>406</th>\n",
       "      <td>Cmet0021</td>\n",
       "      <td>17.907300</td>\n",
       "      <td>173.125000</td>\n",
       "      <td>810.265</td>\n",
       "      <td>193.935953</td>\n",
       "      <td>217.405090</td>\n",
       "      <td>21.8825</td>\n",
       "      <td>1</td>\n",
       "      <td>1,6</td>\n",
       "      <td>CT</td>\n",
       "    </tr>\n",
       "    <tr>\n",
       "      <th>407</th>\n",
       "      <td>Cmet0021</td>\n",
       "      <td>24.100900</td>\n",
       "      <td>270.839000</td>\n",
       "      <td>825.450</td>\n",
       "      <td>190.839153</td>\n",
       "      <td>168.548090</td>\n",
       "      <td>29.4750</td>\n",
       "      <td>1</td>\n",
       "      <td>0,7</td>\n",
       "      <td>CT</td>\n",
       "    </tr>\n",
       "    <tr>\n",
       "      <th>408</th>\n",
       "      <td>Cmet0021</td>\n",
       "      <td>9.078960</td>\n",
       "      <td>192.912000</td>\n",
       "      <td>849.294</td>\n",
       "      <td>198.350123</td>\n",
       "      <td>207.511590</td>\n",
       "      <td>41.3970</td>\n",
       "      <td>1</td>\n",
       "      <td>1</td>\n",
       "      <td>CT</td>\n",
       "    </tr>\n",
       "    <tr>\n",
       "      <th>409</th>\n",
       "      <td>Cmet0021</td>\n",
       "      <td>18.039500</td>\n",
       "      <td>248.785000</td>\n",
       "      <td>867.405</td>\n",
       "      <td>193.869853</td>\n",
       "      <td>179.575090</td>\n",
       "      <td>50.4525</td>\n",
       "      <td>1</td>\n",
       "      <td>0,8</td>\n",
       "      <td>CT</td>\n",
       "    </tr>\n",
       "    <tr>\n",
       "      <th>410</th>\n",
       "      <td>Cmet0021</td>\n",
       "      <td>-7.222630</td>\n",
       "      <td>178.337000</td>\n",
       "      <td>867.254</td>\n",
       "      <td>206.500918</td>\n",
       "      <td>214.799090</td>\n",
       "      <td>50.3770</td>\n",
       "      <td>2</td>\n",
       "      <td>1,5</td>\n",
       "      <td>CT</td>\n",
       "    </tr>\n",
       "    <tr>\n",
       "      <th>405</th>\n",
       "      <td>Cmet0021</td>\n",
       "      <td>52.877100</td>\n",
       "      <td>227.859000</td>\n",
       "      <td>786.395</td>\n",
       "      <td>176.451053</td>\n",
       "      <td>190.038090</td>\n",
       "      <td>9.9475</td>\n",
       "      <td>1</td>\n",
       "      <td>1,5</td>\n",
       "      <td>CT</td>\n",
       "    </tr>\n",
       "    <tr>\n",
       "      <th>482</th>\n",
       "      <td>Cmet0032</td>\n",
       "      <td>65.269190</td>\n",
       "      <td>247.242238</td>\n",
       "      <td>-214.000</td>\n",
       "      <td>170.192508</td>\n",
       "      <td>162.315984</td>\n",
       "      <td>30.7500</td>\n",
       "      <td>0</td>\n",
       "      <td>2</td>\n",
       "      <td>PT</td>\n",
       "    </tr>\n",
       "    <tr>\n",
       "      <th>439</th>\n",
       "      <td>Cmet0034</td>\n",
       "      <td>-60.966057</td>\n",
       "      <td>231.609076</td>\n",
       "      <td>1566.500</td>\n",
       "      <td>233.178142</td>\n",
       "      <td>160.979550</td>\n",
       "      <td>65.7500</td>\n",
       "      <td>1</td>\n",
       "      <td>1</td>\n",
       "      <td>PT</td>\n",
       "    </tr>\n",
       "    <tr>\n",
       "      <th>440</th>\n",
       "      <td>Cmet0034</td>\n",
       "      <td>-95.005911</td>\n",
       "      <td>197.767979</td>\n",
       "      <td>1541.500</td>\n",
       "      <td>250.198070</td>\n",
       "      <td>177.900098</td>\n",
       "      <td>53.2500</td>\n",
       "      <td>0</td>\n",
       "      <td>1</td>\n",
       "      <td>PT</td>\n",
       "    </tr>\n",
       "  </tbody>\n",
       "</table>\n",
       "</div>"
      ],
      "text/plain": [
       "           ID    world_x     world_y   world_z     voxel_x     voxel_y  \\\n",
       "255  Cmet0002 -20.672683  170.393776  1215.500  213.163444  201.240215   \n",
       "484  Cmet0013  50.819446  163.367490  -158.500  177.374381  199.450349   \n",
       "265  Cmet0014   9.921610  226.076408  1280.000  197.866297  169.648899   \n",
       "264  Cmet0014  50.873700  323.807483  1298.000  177.390252  120.783362   \n",
       "263  Cmet0014  33.859789  271.149592  1322.000  185.897208  147.112307   \n",
       "262  Cmet0014  67.355638  320.048595  1319.000  169.149284  122.662806   \n",
       "261  Cmet0014  58.984984  320.048595  1340.000  173.334611  122.662806   \n",
       "260  Cmet0014  -4.916103  241.111958  1364.000  205.285154  162.131124   \n",
       "259  Cmet0014  -2.542069  256.938852  1373.000  204.098137  154.217677   \n",
       "267  Cmet0014  53.445571  260.499904  1295.000  176.104317  152.437151   \n",
       "266  Cmet0014  -2.739905  322.818302  1307.000  204.197055  121.277952   \n",
       "406  Cmet0021  17.907300  173.125000   810.265  193.935953  217.405090   \n",
       "407  Cmet0021  24.100900  270.839000   825.450  190.839153  168.548090   \n",
       "408  Cmet0021   9.078960  192.912000   849.294  198.350123  207.511590   \n",
       "409  Cmet0021  18.039500  248.785000   867.405  193.869853  179.575090   \n",
       "410  Cmet0021  -7.222630  178.337000   867.254  206.500918  214.799090   \n",
       "405  Cmet0021  52.877100  227.859000   786.395  176.451053  190.038090   \n",
       "482  Cmet0032  65.269190  247.242238  -214.000  170.192508  162.315984   \n",
       "439  Cmet0034 -60.966057  231.609076  1566.500  233.178142  160.979550   \n",
       "440  Cmet0034 -95.005911  197.767979  1541.500  250.198070  177.900098   \n",
       "\n",
       "     voxel_z classificaton diameter_in_cm linked_to  \n",
       "255  25.7500             2              3        PT  \n",
       "484  48.2500             0              2        PT  \n",
       "265  22.7500             2              1        PT  \n",
       "264  31.7500             2              5        PT  \n",
       "263  43.7500             2              1        PT  \n",
       "262  42.2500             2              3        PT  \n",
       "261  52.7500             2              5        PT  \n",
       "260  64.7500             2              1        PT  \n",
       "259  69.2500             2              1        PT  \n",
       "267  30.2500             2              1        PT  \n",
       "266  36.2500             2              2        PT  \n",
       "406  21.8825             1            1,6        CT  \n",
       "407  29.4750             1            0,7        CT  \n",
       "408  41.3970             1              1        CT  \n",
       "409  50.4525             1            0,8        CT  \n",
       "410  50.3770             2            1,5        CT  \n",
       "405   9.9475             1            1,5        CT  \n",
       "482  30.7500             0              2        PT  \n",
       "439  65.7500             1              1        PT  \n",
       "440  53.2500             0              1        PT  "
      ]
     },
     "execution_count": 226,
     "metadata": {},
     "output_type": "execute_result"
    }
   ],
   "source": [
    "df_rtss = pd.read_pickle(data_path/'registered_reference_markings_revised.pkl')\n",
    "sorted = df_rtss.sort_values(by='ID')"
   ]
  },
  {
   "cell_type": "code",
   "execution_count": 227,
   "metadata": {},
   "outputs": [
    {
     "data": {
      "text/plain": [
       "177"
      ]
     },
     "execution_count": 227,
     "metadata": {},
     "output_type": "execute_result"
    }
   ],
   "source": [
    "df_rtss.ID.unique().size"
   ]
  },
  {
   "cell_type": "code",
   "execution_count": 228,
   "metadata": {},
   "outputs": [
    {
     "name": "stdout",
     "output_type": "stream",
     "text": [
      "134\n"
     ]
    }
   ],
   "source": [
    "ds1 = set(df_rtss.ID.unique())\n",
    "ds2 = set(df_rtss.loc[df_rtss['classificaton'] == '2'].ID.unique())\n",
    "print(len(ds2))"
   ]
  },
  {
   "cell_type": "code",
   "execution_count": 229,
   "metadata": {},
   "outputs": [
    {
     "name": "stdout",
     "output_type": "stream",
     "text": [
      "Abnormal scans without class 2 metastasis 43\n"
     ]
    }
   ],
   "source": [
    "print(\"Abnormal scans without class 2 metastasis\", len(ds1.difference(ds2)))"
   ]
  },
  {
   "attachments": {},
   "cell_type": "markdown",
   "metadata": {},
   "source": [
    "Data analysis and overview"
   ]
  },
  {
   "cell_type": "code",
   "execution_count": 231,
   "metadata": {},
   "outputs": [],
   "source": [
    "train_df = df[df.pt.str.contains('|'.join(['train']))]\n",
    "val_df = df[df.pt.str.contains('|'.join(['val']))]\n",
    "test_df = df[df.pt.str.contains('|'.join(['test']))]"
   ]
  },
  {
   "cell_type": "code",
   "execution_count": 232,
   "metadata": {},
   "outputs": [
    {
     "name": "stdout",
     "output_type": "stream",
     "text": [
      "Distribution of train patients: \n",
      "\n",
      " 0.0    1000\n",
      "1.0     117\n",
      "Name: target, dtype: int64\n",
      "Share of sick patients:  0.117\n",
      "\n",
      "\n",
      "\n",
      "Distribution of test patients: \n",
      "\n",
      " 0.0    251\n",
      "1.0     30\n",
      "Name: target, dtype: int64\n",
      "Share of sick patients:  0.11952191235059761\n",
      "\n",
      "\n",
      "\n",
      "Distribution of test patients: \n",
      "\n",
      " 0.0    221\n",
      "1.0     26\n",
      "Name: target, dtype: int64\n",
      "Share of sick patients:  0.11764705882352941\n"
     ]
    }
   ],
   "source": [
    "train_count = train_df['target'].value_counts()\n",
    "print('Distribution of train patients: \\n\\n', train_count)\n",
    "print('Share of sick patients: ', train_count[1]/train_count[0])\n",
    "\n",
    "print('\\n\\n')\n",
    "\n",
    "val_count = val_df['target'].value_counts()\n",
    "print('Distribution of test patients: \\n\\n', val_count)\n",
    "print('Share of sick patients: ', val_count[1]/val_count[0])\n",
    "\n",
    "print('\\n\\n')\n",
    "\n",
    "test_count = test_df['target'].value_counts()\n",
    "print('Distribution of test patients: \\n\\n', test_count)\n",
    "print('Share of sick patients: ', test_count[1]/test_count[0])"
   ]
  },
  {
   "attachments": {},
   "cell_type": "markdown",
   "metadata": {},
   "source": [
    "Revised Experiments"
   ]
  },
  {
   "cell_type": "code",
   "execution_count": 233,
   "metadata": {},
   "outputs": [
    {
     "name": "stdout",
     "output_type": "stream",
     "text": [
      "['Cmet0032', 'Cmet0034', 'Cmet1041', 'Cmet0657', 'Cmet1181', 'Cmet1195', 'Cmet0599', 'Cmet0272', 'Cmet0537', 'Cmet0621', 'Cmet0539', 'Cmet1607', 'Cmet0212', 'Cmet0598', 'Cmet0523', 'Cmet1082', 'Cmet1193', 'Cmet1588', 'Cmet1310', 'Cmet0498', 'Cmet0931', 'Cmet1687', 'Cmet1167', 'Cmet1225', 'Cmet0214', 'Cmet0568', 'Cmet0547', 'Cmet1137', 'Cmet0258', 'Cmet0059', 'Cmet0666', 'Cmet0991', 'Cmet0693', 'Cmet0968', 'Cmet0562', 'Cmet1316', 'Cmet0911', 'Cmet0343', 'Cmet0442', 'Cmet0013', 'Cmet0172', 'Cmet0970', 'Cmet1078']\n"
     ]
    }
   ],
   "source": [
    "df_revised = df.copy(deep=True)\n",
    "\n",
    "lst =  list(ds1.difference(ds2))\n",
    "print(lst)"
   ]
  },
  {
   "attachments": {},
   "cell_type": "markdown",
   "metadata": {},
   "source": [
    "Split to train and test"
   ]
  },
  {
   "cell_type": "code",
   "execution_count": 234,
   "metadata": {},
   "outputs": [],
   "source": [
    "train_df = df_revised[df_revised.pt.str.contains('|'.join(['train', 'val']))]\n",
    "test_df = df_revised[df_revised.pt.str.contains('|'.join(['test']))]"
   ]
  },
  {
   "cell_type": "markdown",
   "metadata": {},
   "source": [
    "Change target to 0 for patients with only class 0 and 1 metastases"
   ]
  },
  {
   "cell_type": "code",
   "execution_count": 235,
   "metadata": {},
   "outputs": [],
   "source": [
    "def string_function(pt_name):\n",
    "    return pt_name[-8:]\n",
    "\n",
    "train_df['pt'] = train_df['pt'].apply(lambda x: string_function(x))\n",
    "test_df['pt'] = test_df['pt'].apply(lambda x: string_function(x))\n"
   ]
  },
  {
   "cell_type": "code",
   "execution_count": 236,
   "metadata": {},
   "outputs": [],
   "source": [
    "train_df.loc[train_df['pt'].isin(lst), 'target'] = 0.0\n",
    "test_df.loc[test_df['pt'].isin(lst), 'target'] = 0.0"
   ]
  },
  {
   "attachments": {},
   "cell_type": "markdown",
   "metadata": {},
   "source": [
    "Testing of different models"
   ]
  },
  {
   "cell_type": "code",
   "execution_count": 237,
   "metadata": {},
   "outputs": [
    {
     "name": "stdout",
     "output_type": "stream",
     "text": [
      "(1398, 12)\n",
      "score log reg:  0.9352226720647774\n",
      "best validation score: 0.9813876088069637, params: ['log2', 2, 50]\n",
      "score rf:  0.9392712550607287\n",
      "score rf:  0.9473684210526315\n",
      "best validation score: 0.977811059907834, params: 3\n",
      "score knn:  0.9392712550607287\n",
      "best validation score: 0.9820993343573988, params: ['logloss', 0.1, 10, 200]\n",
      "[18:07:57] WARNING: ../src/learner.cc:767: \n",
      "Parameters: { \"eval_matric\" } are not used.\n",
      "\n",
      "score xgb:  0.9433198380566802\n",
      "\n",
      "\n",
      "\n"
     ]
    }
   ],
   "source": [
    "train_data = train_df[['axi_avg_prob',\n",
    "                'axi_amount_sick',\n",
    "                'axi_max_prob',\n",
    "                'axi_top10_prob',\n",
    "                'coro_avg_prob',\n",
    "                'coro_amount_sick',\n",
    "                'coro_max_prob',\n",
    "                'coro_top10_prob',\n",
    "                'sagi_avg_prob',\n",
    "                'sagi_amount_sick',\n",
    "                'sagi_max_prob',\n",
    "                'sagi_top10_prob',\n",
    "                'target']].to_numpy()\n",
    "\n",
    "\n",
    "X_train = train_data[:,0:12]\n",
    "y_train = train_data[:,12]\n",
    "\n",
    "test_data = test_df[['axi_avg_prob',\n",
    "                'axi_amount_sick',\n",
    "                'axi_max_prob',\n",
    "                'axi_top10_prob',\n",
    "                'coro_avg_prob',\n",
    "                'coro_amount_sick',\n",
    "                'coro_max_prob',\n",
    "                'coro_top10_prob',\n",
    "                'sagi_avg_prob',\n",
    "                'sagi_amount_sick',\n",
    "                'sagi_max_prob',\n",
    "                'sagi_top10_prob',\n",
    "                'target']].to_numpy()\n",
    "\n",
    "X_test = test_data[:,0:12]\n",
    "y_test = test_data[:,12]\n",
    "print(X_train.shape)\n",
    "\n",
    "#Logistic regression\n",
    "\n",
    "log_reg = LogisticRegression(random_state=0, max_iter=1000)\n",
    "log_reg.fit(X_train, y_train)\n",
    "print('score log reg: ', log_reg.score(X_test, y_test))\n",
    "y_pred_log = log_reg.predict(X_test)\n",
    "y_pred_prob_log = log_reg.predict_proba(X_test)[:,1]\n",
    "fpr_log, tpr_log, thresholds = roc_curve(y_test, y_pred_prob_log)\n",
    "\n",
    "#Random Forest\n",
    "\n",
    "best_score = 0.0\n",
    "best_params = [None, None, None]\n",
    "\n",
    "for max_feauture in ['sqrt', 'log2', None]:\n",
    "    for max_depth in [2, 5, 10, None]:\n",
    "        for n_estimators in [50, 100, 200]:            \n",
    "            rf = RandomForestClassifier(max_features=max_feauture, max_depth=max_depth, n_estimators=n_estimators)\n",
    "            cv_scores = cross_val_score(rf, X_train, y_train)\n",
    "            \n",
    "            if np.mean(cv_scores) > best_score:\n",
    "                best_score = np.mean(cv_scores)\n",
    "                best_params[0]=max_feauture \n",
    "                best_params[1]=max_depth\n",
    "                best_params[2]=n_estimators\n",
    "            \n",
    "print(f'best validation score: {best_score}, params: {best_params}')            \n",
    "\n",
    "rf_optimal = RandomForestClassifier(max_features=best_params[0], \n",
    "                                    max_depth=best_params[1], \n",
    "                                    n_estimators=best_params[2])\n",
    "rf_optimal.fit(X_train, y_train)\n",
    "y_pred_rf = rf_optimal.predict(X_test)\n",
    "y_pred_prob_rf = rf_optimal.predict_proba(X_test)[:,1]\n",
    "fpr_rf, tpr_rf, thresholds = roc_curve(y_test, y_pred_prob_rf)\n",
    "print('score rf: ', rf_optimal.score(X_test, y_test))\n",
    "#deafult parameters\n",
    "rf = RandomForestClassifier()\n",
    "rf.fit(X_train, y_train)\n",
    "print('score rf: ', rf.score(X_test, y_test))\n",
    "#normalize train data\n",
    "norm_X_train = (X_train- X_train.mean(axis=0)) / X_train.std(axis=0)\n",
    "\n",
    "#normalize test data\n",
    "norm_X_test = (X_test - X_test.mean(axis=0)) / X_test.std(axis=0) \n",
    "best_score = 0.0\n",
    "best_param = -1\n",
    "\n",
    "for neigbors in range(1,15):\n",
    "    knn = KNeighborsClassifier(n_neighbors=neigbors)\n",
    "    cv_scores = cross_val_score(knn, norm_X_train, y_train)\n",
    "    \n",
    "    if np.mean(cv_scores) > best_score:\n",
    "        best_score = np.mean(cv_scores)\n",
    "        best_param = neigbors \n",
    "        \n",
    "print(f'best validation score: {best_score}, params: {best_param}')            \n",
    "\n",
    "knn_optimal = KNeighborsClassifier(n_neighbors=best_param)\n",
    "knn_optimal.fit(norm_X_train, y_train)\n",
    "y_pred_knn = knn_optimal.predict(norm_X_test)\n",
    "y_pred_prob_knn = knn_optimal.predict_proba(norm_X_test)[:,1]\n",
    "fpr_knn, tpr_knn, thresholds = roc_curve(y_test, y_pred_prob_knn)\n",
    "print('score knn: ', knn_optimal.score(norm_X_test, y_test))\n",
    "best_score = 0.0\n",
    "best_params = [None, None, None, None]\n",
    "\n",
    "\n",
    "for eval_matric in ['logloss']:\n",
    "    for lr in [0.01, 0.1, 1.0]:\n",
    "        for max_depth in [2, 5, 10, 20, 50, None]:\n",
    "            for n_estimators in [2, 5, 10, 50, 100, 200]:            \n",
    "                xgb = XGBClassifier(eval_metric = eval_matric, learning_rate=lr,  max_depth=max_depth, n_estimators=n_estimators, objective='binary:logistic')\n",
    "                cv_scores = cross_val_score(xgb, X_train, y_train)\n",
    "                \n",
    "                if np.mean(cv_scores) > best_score:\n",
    "                    best_score = np.mean(cv_scores)\n",
    "                    best_params[0]=eval_matric\n",
    "                    best_params[1]=lr \n",
    "                    best_params[2]=max_depth\n",
    "                    best_params[3]=n_estimators\n",
    "            \n",
    "print(f'best validation score: {best_score}, params: {best_params}')            \n",
    "\n",
    "xgb_optimal = XGBClassifier(eval_matric=best_params[0], \n",
    "                            learning_rate=best_params[1], \n",
    "                            max_depth=best_params[2], \n",
    "                            n_estimators=best_params[3])\n",
    "\n",
    "xgb_optimal.fit(X_train, y_train)\n",
    "y_pred_xgb = xgb_optimal.predict(X_test)\n",
    "y_pred_prob_xgb = xgb_optimal.predict_proba(X_test)[:,1]\n",
    "fpr_xgb, tpr_xgb, thresholds = roc_curve(y_test, y_pred_prob_xgb)\n",
    "print('score xgb: ', xgb_optimal.score(X_test, y_test))\n",
    "\n",
    "print('\\n\\n')\n",
    "\n",
    "\n"
   ]
  },
  {
   "cell_type": "code",
   "execution_count": 238,
   "metadata": {},
   "outputs": [
    {
     "name": "stdout",
     "output_type": "stream",
     "text": [
      "AUC log reg 0.8024007386888272\n",
      "AUC rf 0.8037857802400739\n",
      "AUC knn 0.7493074792243767\n",
      "AUC xgb  0.7460757156048015\n"
     ]
    },
    {
     "data": {
      "image/png": "[encoded data removed]",
      "text/plain": [
       "<Figure size 640x480 with 1 Axes>"
      ]
     },
     "metadata": {},
     "output_type": "display_data"
    },
    {
     "name": "stdout",
     "output_type": "stream",
     "text": [
      "Clasification Report log reg\n",
      "\n",
      "              precision    recall  f1-score   support\n",
      "\n",
      "         0.0       0.95      0.99      0.97       228\n",
      "         1.0       0.67      0.32      0.43        19\n",
      "\n",
      "    accuracy                           0.94       247\n",
      "   macro avg       0.81      0.65      0.70       247\n",
      "weighted avg       0.92      0.94      0.92       247\n",
      "\n",
      "Clasification Report rf\n",
      "\n",
      "              precision    recall  f1-score   support\n",
      "\n",
      "         0.0       0.94      1.00      0.97       228\n",
      "         1.0       0.83      0.26      0.40        19\n",
      "\n",
      "    accuracy                           0.94       247\n",
      "   macro avg       0.89      0.63      0.68       247\n",
      "weighted avg       0.93      0.94      0.92       247\n",
      "\n",
      "Clasification Report knn\n",
      "\n",
      "              precision    recall  f1-score   support\n",
      "\n",
      "         0.0       0.95      0.98      0.97       228\n",
      "         1.0       0.67      0.42      0.52        19\n",
      "\n",
      "    accuracy                           0.94       247\n",
      "   macro avg       0.81      0.70      0.74       247\n",
      "weighted avg       0.93      0.94      0.93       247\n",
      "\n",
      "Clasification Report xgb\n",
      "\n",
      "              precision    recall  f1-score   support\n",
      "\n",
      "         0.0       0.95      1.00      0.97       228\n",
      "         1.0       0.86      0.32      0.46        19\n",
      "\n",
      "    accuracy                           0.94       247\n",
      "   macro avg       0.90      0.66      0.72       247\n",
      "weighted avg       0.94      0.94      0.93       247\n",
      "\n"
     ]
    }
   ],
   "source": [
    "print('AUC log reg', roc_auc_score(y_test, y_pred_prob_log))\n",
    "print('AUC rf', roc_auc_score(y_test, y_pred_prob_rf))\n",
    "print('AUC knn', roc_auc_score(y_test, y_pred_prob_knn))\n",
    "print('AUC xgb ', roc_auc_score(y_test, y_pred_prob_xgb))\n",
    "\n",
    "sns.set_style(\"whitegrid\")\n",
    "\n",
    "plt.plot([0,1],[0,1], 'k--')\n",
    "plt.plot(fpr_log, tpr_log, label=f'Log. Reg., AUC = {roc_auc_score(y_test, y_pred_prob_log):.2f}')\n",
    "plt.plot(fpr_rf, tpr_rf, label=f'RF, AUC = {roc_auc_score(y_test, y_pred_prob_rf):.2f}')\n",
    "plt.plot(fpr_knn, tpr_knn, label=f'KNN, AUC = {roc_auc_score(y_test, y_pred_prob_knn):.2f}')\n",
    "plt.plot(fpr_xgb, tpr_xgb, label=f'XGB, AUC = {roc_auc_score(y_test, y_pred_prob_xgb):.2f}')\n",
    "plt.legend()\n",
    "plt.xlabel('False Positive Rate')\n",
    "plt.ylabel('True Positive Rate')\n",
    "plt.title('Classifiers ROC')\n",
    "plt.show()\n",
    "print(f\"Clasification Report log reg\\n\\n{classification_report(y_test, y_pred_log)}\")\n",
    "print(f\"Clasification Report rf\\n\\n{classification_report(y_test, y_pred_rf)}\")\n",
    "print(f\"Clasification Report knn\\n\\n{classification_report(y_test, y_pred_knn)}\")\n",
    "print(f\"Clasification Report xgb\\n\\n{classification_report(y_test, y_pred_xgb)}\")"
   ]
  }
 ],
 "metadata": {
  "kernelspec": {
   "display_name": "bach_proj",
   "language": "python",
   "name": "python3"
  },
  "language_info": {
   "codemirror_mode": {
    "name": "ipython",
    "version": 3
   },
   "file_extension": ".py",
   "mimetype": "text/x-python",
   "name": "python",
   "nbconvert_exporter": "python",
   "pygments_lexer": "ipython3",
   "version": "3.8.0"
  },
  "orig_nbformat": 4,
  "vscode": {
   "interpreter": {
    "hash": "182b74877a6241c61852235ce4b7ffe4ad006c173519d6e6413701987f260fdd"
   }
  }
 },
 "nbformat": 4,
 "nbformat_minor": 2
}
